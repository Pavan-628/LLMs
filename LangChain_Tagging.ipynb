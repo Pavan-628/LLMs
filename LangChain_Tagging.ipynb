{
 "cells": [
  {
   "cell_type": "code",
   "execution_count": 1,
   "metadata": {},
   "outputs": [],
   "source": [
    "from langchain.chat_models import ChatOpenAI\n",
    "from langchain.chains import create_tagging_chain\n"
   ]
  },
  {
   "cell_type": "code",
   "execution_count": 2,
   "metadata": {},
   "outputs": [],
   "source": [
    "#Schema\n",
    "schema={\n",
    "    \"properties\":{\n",
    "        \"aggressiveness\": {\n",
    "            \"type\":\"integer\",\n",
    "            \"enum\": [1,2,3,4,5],\n",
    "            \"description\":\"describes how aggressive the statement is, the higher the number,the more aggressive the statement\",\n",
    "        },\n",
    "        \"language\":{\n",
    "            \"type\":\"string\",\n",
    "            \"enum\":[\"spanish\",\"english\",\"french\",\"german\",\"italian\"],\n",
    "        },\n",
    "        \"mood\":{\n",
    "            \"type\":\"string\",\n",
    "            \"enum\":[\"surprised\",\"awful\",'regretful','happy','angry','normal']\n",
    "        },\n",
    "        \"grammer\":{\n",
    "            \"type\":'boolean',\n",
    "            \"enum\":[True,False],\n",
    "            \"description\":\"Is the sentence grammarically correct?\"\n",
    "        },\n",
    "        \"trait\":{\n",
    "            \"type\":\"string\",\n",
    "            \"description\":\"what trait it shows about the speaker?\"\n",
    "        }\n",
    "    },\n",
    "    \"required\":[\"language\",'aggressiveness','mood','grammer','trait']\n",
    "    }\n"
   ]
  },
  {
   "cell_type": "code",
   "execution_count": 4,
   "metadata": {},
   "outputs": [],
   "source": [
    "#llm\n",
    "llm=ChatOpenAI()\n",
    "chain=create_tagging_chain(schema,llm)"
   ]
  },
  {
   "cell_type": "code",
   "execution_count": 6,
   "metadata": {},
   "outputs": [
    {
     "name": "stdout",
     "output_type": "stream",
     "text": [
      "Hey ! I assume I saw you yesterday : {'aggressiveness': 0, 'language': 'english', 'mood': 'normal', 'grammer': True, 'trait': ''}\n"
     ]
    }
   ],
   "source": [
    "inp=\"Hey ! I assume I saw you yesterday\"\n",
    "print(inp,\":\",chain.run(inp))"
   ]
  },
  {
   "cell_type": "code",
   "execution_count": 7,
   "metadata": {},
   "outputs": [
    {
     "name": "stdout",
     "output_type": "stream",
     "text": [
      "I beg your pardon : {'aggressiveness': 0, 'language': 'english', 'mood': 'normal', 'grammer': True, 'trait': 'politeness'}\n"
     ]
    }
   ],
   "source": [
    "inp=\"I beg your pardon\"\n",
    "print(inp,\":\",chain.run(inp))"
   ]
  },
  {
   "cell_type": "code",
   "execution_count": 8,
   "metadata": {},
   "outputs": [
    {
     "name": "stdout",
     "output_type": "stream",
     "text": [
      "Why are you behaving like a jerk to her after your breakup? : {'aggressiveness': 0, 'language': 'english', 'mood': 'angry', 'grammer': True, 'trait': 'jerk'}\n"
     ]
    }
   ],
   "source": [
    "inp=\"Why are you behaving like a jerk to her after your breakup?\"\n",
    "print(inp,\":\",chain.run(inp))"
   ]
  },
  {
   "cell_type": "code",
   "execution_count": 9,
   "metadata": {},
   "outputs": [
    {
     "name": "stdout",
     "output_type": "stream",
     "text": [
      "Get out of house my immediately. : {'aggressiveness': 0, 'language': 'english', 'mood': 'angry', 'grammer': False, 'trait': 'impatience'}\n"
     ]
    }
   ],
   "source": [
    "inp=\"Get out of house my immediately.\"\n",
    "print(inp,\":\",chain.run(inp))"
   ]
  },
  {
   "cell_type": "code",
   "execution_count": null,
   "metadata": {},
   "outputs": [],
   "source": []
  }
 ],
 "metadata": {
  "kernelspec": {
   "display_name": "LLM_env",
   "language": "python",
   "name": "python3"
  },
  "language_info": {
   "codemirror_mode": {
    "name": "ipython",
    "version": 3
   },
   "file_extension": ".py",
   "mimetype": "text/x-python",
   "name": "python",
   "nbconvert_exporter": "python",
   "pygments_lexer": "ipython3",
   "version": "3.11.5"
  },
  "orig_nbformat": 4
 },
 "nbformat": 4,
 "nbformat_minor": 2
}
