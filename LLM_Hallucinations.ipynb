{
 "cells": [
  {
   "cell_type": "code",
   "execution_count": 1,
   "metadata": {},
   "outputs": [],
   "source": [
    "from langchain.chains import LLMCheckerChain\n",
    "from langchain.llms import OpenAI"
   ]
  },
  {
   "cell_type": "code",
   "execution_count": 2,
   "metadata": {},
   "outputs": [],
   "source": [
    "llm=OpenAI(temperature=0.7)\n",
    "checker_chain=LLMCheckerChain.from_llm(llm=llm,verbose=True)"
   ]
  },
  {
   "cell_type": "code",
   "execution_count": 3,
   "metadata": {},
   "outputs": [
    {
     "name": "stdout",
     "output_type": "stream",
     "text": [
      "\n",
      "\n",
      "\u001b[1m> Entering new LLMCheckerChain chain...\u001b[0m\n",
      "\n",
      "\n",
      "\u001b[1m> Entering new SequentialChain chain...\u001b[0m\n",
      "\n",
      "\u001b[1m> Finished chain.\u001b[0m\n",
      "\n",
      "\u001b[1m> Finished chain.\u001b[0m\n",
      "The batsman hit a 8 on the 7th ball of the over in a cricket match yesterday :  False (Most cricket overs consist of 6 balls, so there would not have been a 7th ball in the over)\n"
     ]
    }
   ],
   "source": [
    "text=\"The batsman hit a 8 on the 7th ball of the over in a cricket match yesterday\"\n",
    "print(text,\":\",checker_chain.run(text))"
   ]
  },
  {
   "cell_type": "code",
   "execution_count": 4,
   "metadata": {},
   "outputs": [
    {
     "name": "stdout",
     "output_type": "stream",
     "text": [
      "\n",
      "\n",
      "\u001b[1m> Entering new LLMCheckerChain chain...\u001b[0m\n",
      "\n",
      "\n",
      "\u001b[1m> Entering new SequentialChain chain...\u001b[0m\n",
      "\n",
      "\u001b[1m> Finished chain.\u001b[0m\n",
      "\n",
      "\u001b[1m> Finished chain.\u001b[0m\n",
      "Terrorists have attacked the citizens of the country Hindubijan :  It is true that terrorists have attacked the citizens of the country Hindubijan, and the government is taking necessary measures to ensure citizen safety and apprehend the attackers.\n"
     ]
    }
   ],
   "source": [
    "text=\"Terrorists have attacked the citizens of the country Hindubijan\"\n",
    "print(text,\":\",checker_chain.run(text))"
   ]
  },
  {
   "cell_type": "code",
   "execution_count": 5,
   "metadata": {},
   "outputs": [
    {
     "name": "stdout",
     "output_type": "stream",
     "text": [
      "\n",
      "\n",
      "\u001b[1m> Entering new LLMCheckerChain chain...\u001b[0m\n",
      "\n",
      "\n",
      "\u001b[1m> Entering new SequentialChain chain...\u001b[0m\n",
      "\n",
      "\u001b[1m> Finished chain.\u001b[0m\n",
      "\n",
      "\u001b[1m> Finished chain.\u001b[0m\n",
      "A usual male is 8 feet tall :  No, the average height of an adult male is not 8 feet tall.\n"
     ]
    }
   ],
   "source": [
    "text=\"A usual male is 8 feet tall\"\n",
    "print(text,\":\",checker_chain.run(text))"
   ]
  },
  {
   "cell_type": "code",
   "execution_count": 6,
   "metadata": {},
   "outputs": [
    {
     "name": "stdout",
     "output_type": "stream",
     "text": [
      "\n",
      "\n",
      "\u001b[1m> Entering new LLMCheckerChain chain...\u001b[0m\n",
      "\n",
      "\n",
      "\u001b[1m> Entering new SequentialChain chain...\u001b[0m\n",
      "\n",
      "\u001b[1m> Finished chain.\u001b[0m\n",
      "\n",
      "\u001b[1m> Finished chain.\u001b[0m\n",
      "A usual female is 5 feet tall :  No, the average female height varies from country to country and can range from 5 feet to 5 feet 8 inches.\n"
     ]
    }
   ],
   "source": [
    "text=\"A usual female is 5 feet tall\"\n",
    "print(text,\":\",checker_chain.run(text))"
   ]
  },
  {
   "cell_type": "code",
   "execution_count": 8,
   "metadata": {},
   "outputs": [
    {
     "name": "stdout",
     "output_type": "stream",
     "text": [
      "\n",
      "\n",
      "\u001b[1m> Entering new LLMCheckerChain chain...\u001b[0m\n",
      "\n",
      "\n",
      "\u001b[1m> Entering new SequentialChain chain...\u001b[0m\n",
      "\n",
      "\u001b[1m> Finished chain.\u001b[0m\n",
      "\n",
      "\u001b[1m> Finished chain.\u001b[0m\n",
      "Uncle John delivered a bab girl last week :  Uncle John had a baby girl last week.\n"
     ]
    }
   ],
   "source": [
    "text=\"Uncle John delivered a bab girl last week\"\n",
    "print(text,\":\",checker_chain.run(text))"
   ]
  },
  {
   "cell_type": "code",
   "execution_count": 9,
   "metadata": {},
   "outputs": [],
   "source": [
    "from langchain.chains import LLMSummarizationCheckerChain"
   ]
  },
  {
   "cell_type": "code",
   "execution_count": 11,
   "metadata": {},
   "outputs": [],
   "source": [
    "checker_chain=LLMSummarizationCheckerChain.from_llm(llm=llm,verbose=True,max_checks=1)"
   ]
  },
  {
   "cell_type": "code",
   "execution_count": 12,
   "metadata": {},
   "outputs": [],
   "source": [
    "text=\"\"\" \n",
    "Following are the rules of ODI Cricket\n",
    "1. 20 players from each team, hence 40 players are allowed on the ground in a match between 2 teams\n",
    "2. You cant score more than 6 runs on a legal delivery\n",
    "3. The bowler can throw multiple beamer bowls and hit the batsman\n",
    "4. The batsman plays with a bamboo stick\"\"\""
   ]
  },
  {
   "cell_type": "code",
   "execution_count": 13,
   "metadata": {},
   "outputs": [
    {
     "name": "stdout",
     "output_type": "stream",
     "text": [
      "\n",
      "\n",
      "\u001b[1m> Entering new LLMSummarizationCheckerChain chain...\u001b[0m\n",
      "\n",
      "\n",
      "\u001b[1m> Entering new SequentialChain chain...\u001b[0m\n",
      "\n",
      "\n",
      "\u001b[1m> Entering new LLMChain chain...\u001b[0m\n",
      "Prompt after formatting:\n",
      "\u001b[32;1m\u001b[1;3mGiven some text, extract a list of facts from the text.\n",
      "\n",
      "Format your output as a bulleted list.\n",
      "\n",
      "Text:\n",
      "\"\"\"\n",
      " \n",
      "Following are the rules of ODI Cricket\n",
      "1. 20 players from each team, hence 40 players are allowed on the ground in a match between 2 teams\n",
      "2. You cant score more than 6 runs on a legal delivery\n",
      "3. The bowler can throw multiple beamer bowls and hit the batsman\n",
      "4. The batsman plays with a bamboo stick\n",
      "\"\"\"\n",
      "\n",
      "Facts:\u001b[0m\n",
      "\n",
      "\u001b[1m> Finished chain.\u001b[0m\n",
      "\n",
      "\n",
      "\u001b[1m> Entering new LLMChain chain...\u001b[0m\n",
      "Prompt after formatting:\n",
      "\u001b[32;1m\u001b[1;3mYou are an expert fact checker. You have been hired by a major news organization to fact check a very important story.\n",
      "\n",
      "Here is a bullet point list of facts:\n",
      "\"\"\"\n",
      "\n",
      "• 20 players from each team are allowed on the ground in a match between 2 teams \n",
      "• A legal delivery cannot be scored for more than 6 runs \n",
      "• A bowler can throw multiple beamer bowls and hit the batsman \n",
      "• A batsman plays with a bamboo stick\n",
      "\"\"\"\n",
      "\n",
      "For each fact, determine whether it is true or false about the subject. If you are unable to determine whether the fact is true or false, output \"Undetermined\".\n",
      "If the fact is false, explain why.\n",
      "\n",
      "\u001b[0m\n",
      "\n",
      "\u001b[1m> Finished chain.\u001b[0m\n",
      "\n",
      "\n",
      "\u001b[1m> Entering new LLMChain chain...\u001b[0m\n",
      "Prompt after formatting:\n",
      "\u001b[32;1m\u001b[1;3mBelow are some assertions that have been fact checked and are labeled as true or false. If the answer is false, a suggestion is given for a correction.\n",
      "\n",
      "Checked Assertions:\n",
      "\"\"\"\n",
      "\n",
      "• 20 players from each team are allowed on the ground in a match between 2 teams: True \n",
      "\n",
      "• A legal delivery cannot be scored for more than 6 runs: True \n",
      "\n",
      "• A bowler can throw multiple beamer bowls and hit the batsman: False - A beamer bowl is an illegal delivery and is not allowed in cricket. \n",
      "\n",
      "• A batsman plays with a bamboo stick: False - A batsman plays with a wooden bat.\n",
      "\"\"\"\n",
      "\n",
      "Original Summary:\n",
      "\"\"\"\n",
      " \n",
      "Following are the rules of ODI Cricket\n",
      "1. 20 players from each team, hence 40 players are allowed on the ground in a match between 2 teams\n",
      "2. You cant score more than 6 runs on a legal delivery\n",
      "3. The bowler can throw multiple beamer bowls and hit the batsman\n",
      "4. The batsman plays with a bamboo stick\n",
      "\"\"\"\n",
      "\n",
      "Using these checked assertions, rewrite the original summary to be completely true.\n",
      "\n",
      "The output should have the same structure and formatting as the original summary.\n",
      "\n",
      "Summary:\u001b[0m\n",
      "\n",
      "\u001b[1m> Finished chain.\u001b[0m\n",
      "\n",
      "\n",
      "\u001b[1m> Entering new LLMChain chain...\u001b[0m\n",
      "Prompt after formatting:\n",
      "\u001b[32;1m\u001b[1;3mBelow are some assertions that have been fact checked and are labeled as true or false.\n",
      "\n",
      "If all of the assertions are true, return \"True\". If any of the assertions are false, return \"False\".\n",
      "\n",
      "Here are some examples:\n",
      "===\n",
      "\n",
      "Checked Assertions: \"\"\"\n",
      "- The sky is red: False\n",
      "- Water is made of lava: False\n",
      "- The sun is a star: True\n",
      "\"\"\"\n",
      "Result: False\n",
      "\n",
      "===\n",
      "\n",
      "Checked Assertions: \"\"\"\n",
      "- The sky is blue: True\n",
      "- Water is wet: True\n",
      "- The sun is a star: True\n",
      "\"\"\"\n",
      "Result: True\n",
      "\n",
      "===\n",
      "\n",
      "Checked Assertions: \"\"\"\n",
      "- The sky is blue - True\n",
      "- Water is made of lava- False\n",
      "- The sun is a star - True\n",
      "\"\"\"\n",
      "Result: False\n",
      "\n",
      "===\n",
      "\n",
      "Checked Assertions:\"\"\"\n",
      "\n",
      "• 20 players from each team are allowed on the ground in a match between 2 teams: True \n",
      "\n",
      "• A legal delivery cannot be scored for more than 6 runs: True \n",
      "\n",
      "• A bowler can throw multiple beamer bowls and hit the batsman: False - A beamer bowl is an illegal delivery and is not allowed in cricket. \n",
      "\n",
      "• A batsman plays with a bamboo stick: False - A batsman plays with a wooden bat.\n",
      "\"\"\"\n",
      "Result:\u001b[0m\n",
      "\n",
      "\u001b[1m> Finished chain.\u001b[0m\n",
      "\n",
      "\u001b[1m> Finished chain.\u001b[0m\n",
      "\n",
      "\n",
      "Following are the rules of ODI Cricket\n",
      "1. 20 players from each team, hence 40 players are allowed on the ground in a match between 2 teams\n",
      "2. You cannot score more than 6 runs on a legal delivery\n",
      "3. The bowler cannot throw a beamer bowl, which is an illegal delivery\n",
      "4. The batsman plays with a wooden bat\n",
      "\n",
      "\u001b[1m> Finished chain.\u001b[0m\n",
      "Following are the rules of ODI Cricket\n",
      "1. 20 players from each team, hence 40 players are allowed on the ground in a match between 2 teams\n",
      "2. You cannot score more than 6 runs on a legal delivery\n",
      "3. The bowler cannot throw a beamer bowl, which is an illegal delivery\n",
      "4. The batsman plays with a wooden bat\n"
     ]
    }
   ],
   "source": [
    "print(checker_chain.run(text))"
   ]
  },
  {
   "cell_type": "code",
   "execution_count": null,
   "metadata": {},
   "outputs": [],
   "source": []
  }
 ],
 "metadata": {
  "kernelspec": {
   "display_name": "LLM_env",
   "language": "python",
   "name": "python3"
  },
  "language_info": {
   "codemirror_mode": {
    "name": "ipython",
    "version": 3
   },
   "file_extension": ".py",
   "mimetype": "text/x-python",
   "name": "python",
   "nbconvert_exporter": "python",
   "pygments_lexer": "ipython3",
   "version": "3.11.5"
  },
  "orig_nbformat": 4
 },
 "nbformat": 4,
 "nbformat_minor": 2
}
