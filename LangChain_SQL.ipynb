{
 "cells": [
  {
   "cell_type": "code",
   "execution_count": 1,
   "metadata": {},
   "outputs": [],
   "source": [
    "from langchain.chat_models import ChatOpenAI\n",
    "from langchain.chains import create_sql_query_chain\n",
    "from langchain.utilities import SQLDatabase\n",
    "from langchain_experimental.sql import SQLDatabaseChain"
   ]
  },
  {
   "cell_type": "code",
   "execution_count": 3,
   "metadata": {},
   "outputs": [],
   "source": [
    "db=SQLDatabase.from_uri(\"sqlite:///Chinook.db\")\n",
    "llm=ChatOpenAI()\n",
    "chain=create_sql_query_chain(llm,db)"
   ]
  },
  {
   "cell_type": "code",
   "execution_count": 4,
   "metadata": {},
   "outputs": [
    {
     "name": "stdout",
     "output_type": "stream",
     "text": [
      "SELECT \"employee_name\" FROM \"employees\" WHERE \"employee_name\" LIKE 'A%' AND \"employee_name\" NOT LIKE 'AN%'\n"
     ]
    }
   ],
   "source": [
    "response=chain.invoke({\"question\":\"Get the list of all employees with the name starting with A but exclude AN\"})\n",
    "print(response)"
   ]
  },
  {
   "cell_type": "code",
   "execution_count": 5,
   "metadata": {},
   "outputs": [
    {
     "name": "stdout",
     "output_type": "stream",
     "text": [
      "SELECT \"song_id\", COUNT(*) AS \"count\"\n",
      "FROM \"playlist_song\"\n",
      "GROUP BY \"song_id\"\n",
      "ORDER BY \"count\" DESC\n",
      "LIMIT 1\n"
     ]
    }
   ],
   "source": [
    "response=chain.invoke({\"question\":\"Most common song across playlists\"})\n",
    "print(response)"
   ]
  },
  {
   "cell_type": "code",
   "execution_count": 6,
   "metadata": {},
   "outputs": [
    {
     "name": "stdout",
     "output_type": "stream",
     "text": [
      "SELECT \"ArtistName\", COUNT(\"SongID\") AS \"PopularSongsCount\"\n",
      "FROM \"Artists\" JOIN \"Songs\" ON \"Artists\".\"ArtistID\" = \"Songs\".\"ArtistID\"\n",
      "GROUP BY \"ArtistName\"\n",
      "ORDER BY \"PopularSongsCount\" DESC\n",
      "LIMIT 5;\n"
     ]
    }
   ],
   "source": [
    "response=chain.invoke({\"question\":\"Artists with most popular songs\"})\n",
    "print(response)"
   ]
  },
  {
   "cell_type": "code",
   "execution_count": 7,
   "metadata": {},
   "outputs": [
    {
     "name": "stdout",
     "output_type": "stream",
     "text": [
      "SELECT \"AlbumName\", \"ArtistName\", \"Sales\"\n",
      "FROM \"Albums\"\n",
      "ORDER BY \"Sales\" DESC\n",
      "LIMIT 5\n"
     ]
    }
   ],
   "source": [
    "response=chain.invoke({\"question\":\"Best selling albums\"})\n",
    "print(response)"
   ]
  },
  {
   "cell_type": "code",
   "execution_count": null,
   "metadata": {},
   "outputs": [],
   "source": []
  }
 ],
 "metadata": {
  "kernelspec": {
   "display_name": "LLM_env",
   "language": "python",
   "name": "python3"
  },
  "language_info": {
   "codemirror_mode": {
    "name": "ipython",
    "version": 3
   },
   "file_extension": ".py",
   "mimetype": "text/x-python",
   "name": "python",
   "nbconvert_exporter": "python",
   "pygments_lexer": "ipython3",
   "version": "3.11.5"
  },
  "orig_nbformat": 4
 },
 "nbformat": 4,
 "nbformat_minor": 2
}
