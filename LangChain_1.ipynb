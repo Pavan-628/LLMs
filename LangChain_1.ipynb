{
 "cells": [
  {
   "cell_type": "code",
   "execution_count": 1,
   "metadata": {},
   "outputs": [],
   "source": [
    "from langchain.chat_models import ChatOpenAI\n",
    "from langchain.prompts.chat import ChatPromptTemplate,SystemMessagePromptTemplate,HumanMessagePromptTemplate\n",
    "from langchain.chains import LLMChain"
   ]
  },
  {
   "cell_type": "markdown",
   "metadata": {},
   "source": [
    "### LangcChain Grammer Checker"
   ]
  },
  {
   "cell_type": "code",
   "execution_count": 16,
   "metadata": {},
   "outputs": [],
   "source": [
    "template=\"\"\"You are a English Teacher.The user will provide a English sentence as input.\n",
    "Output Correct! Well Done if it is grammatically right else output wrong rewriting and rewrite the sentence in the next line\"\"\"\n",
    "\n",
    "system_message_prompt=SystemMessagePromptTemplate.from_template(template)\n",
    "human_template=\"{text}\"\n",
    "human_message_prompt=HumanMessagePromptTemplate.from_template(human_template)\n",
    "chat_prompt=ChatPromptTemplate.from_messages([system_message_prompt,human_message_prompt])"
   ]
  },
  {
   "cell_type": "code",
   "execution_count": 17,
   "metadata": {},
   "outputs": [],
   "source": [
    "chatopenai=ChatOpenAI(\n",
    "    model=\"gpt-3.5-turbo\")\n",
    "llmchain_chat=LLMChain(llm=chatopenai,prompt=chat_prompt)"
   ]
  },
  {
   "cell_type": "code",
   "execution_count": 18,
   "metadata": {},
   "outputs": [
    {
     "name": "stdout",
     "output_type": "stream",
     "text": [
      "Prompt 1 Wrong! Rewrite: You need to leave my house!\n",
      "Prompt 2 Correct! Well done.\n",
      "Prompt 3 Correct! Well done.\n",
      "Prompt 4 Wrong! Rewriting: He has done this task.\n"
     ]
    }
   ],
   "source": [
    "print('Prompt 1',llmchain_chat.run(\"Get out house my you !\"))\n",
    "print('Prompt 2',llmchain_chat.run(\"You're beautiful\"))\n",
    "print('Prompt 3',llmchain_chat.run(\"I love my parents\"))\n",
    "print('Prompt 4',llmchain_chat.run(\"He have done this task\"))"
   ]
  },
  {
   "cell_type": "markdown",
   "metadata": {},
   "source": [
    "### LangChain Mood Checker"
   ]
  },
  {
   "cell_type": "code",
   "execution_count": 22,
   "metadata": {},
   "outputs": [],
   "source": [
    "#Same imports\n",
    "template=\"\"\"You are a helpful assistant that rewrite the input text according to the {tone} passed.\"\"\"\n",
    "\n",
    "system_message_prompt=SystemMessagePromptTemplate.from_template(template)\n",
    "human_template=\"{text}\"\n",
    "human_message_prompt=HumanMessagePromptTemplate.from_template(human_template)\n",
    "chat_prompt=ChatPromptTemplate.from_messages([system_message_prompt,human_message_prompt])"
   ]
  },
  {
   "cell_type": "code",
   "execution_count": 23,
   "metadata": {},
   "outputs": [],
   "source": [
    "chatopenai=ChatOpenAI(\n",
    "    model=\"gpt-3.5-turbo\")\n",
    "llmchain_chat=LLMChain(llm=chatopenai,prompt=chat_prompt)"
   ]
  },
  {
   "cell_type": "code",
   "execution_count": 26,
   "metadata": {},
   "outputs": [
    {
     "name": "stdout",
     "output_type": "stream",
     "text": [
      "I am a boy.\n",
      "He is adorable\n",
      "I'm sorry to hear that his friend has passed away.\n",
      "I deeply regret kicking his friend Akash.\n"
     ]
    }
   ],
   "source": [
    "print(llmchain_chat.run({'text':'I am a boy','tone':'angry'}))\n",
    "print(llmchain_chat.run({'text':'He is cute','tone':'sweet'}))\n",
    "print(llmchain_chat.run({'text':'His friend died','tone':'regretful'}))\n",
    "print(llmchain_chat.run({'text':'I kicked his friend Akash','tone':'regretful'}))"
   ]
  },
  {
   "cell_type": "markdown",
   "metadata": {},
   "source": [
    "### Language Translator"
   ]
  },
  {
   "cell_type": "code",
   "execution_count": 27,
   "metadata": {},
   "outputs": [],
   "source": [
    "#Same imports\n",
    "from langchain.schema import BaseOutputParser\n",
    "class CommaSeparatedListOutputParser(BaseOutputParser):\n",
    "    \"\"\" Parse the output of an LLM call to a comma-seprated list.\"\"\"\n",
    "\n",
    "    def parse(self,text:str):\n",
    "        \"\"\"Parse the output of an LLM call\"\"\"\n",
    "        return text.strip().split()"
   ]
  },
  {
   "cell_type": "code",
   "execution_count": 31,
   "metadata": {},
   "outputs": [],
   "source": [
    "template=\"\"\"You are a helpful assistant that translates input text to {output_language}. Separate the outputs for each language by comma.\"\"\"\n",
    "\n",
    "system_message_prompt=SystemMessagePromptTemplate.from_template(template)\n",
    "human_template=\"{text}\"\n",
    "human_message_prompt=HumanMessagePromptTemplate.from_template(human_template)\n",
    "chat_prompt=ChatPromptTemplate.from_messages([system_message_prompt,human_message_prompt])"
   ]
  },
  {
   "cell_type": "code",
   "execution_count": 32,
   "metadata": {},
   "outputs": [],
   "source": [
    "chatopenai=ChatOpenAI(\n",
    "    model=\"gpt-3.5-turbo\")\n",
    "llmchain_chat=LLMChain(\n",
    "    llm=chatopenai,\n",
    "    prompt=chat_prompt,\n",
    "    output_parser=CommaSeparatedListOutputParser())"
   ]
  },
  {
   "cell_type": "code",
   "execution_count": 33,
   "metadata": {},
   "outputs": [
    {
     "name": "stdout",
     "output_type": "stream",
     "text": [
      "['मैं', 'एक', 'लड़का', 'हूँ,', 'Sono', 'un', 'ragazzo']\n",
      "['Je', 'suis', 'un', 'garçon,', 'Ich', 'bin', 'ein', 'Junge']\n",
      "['میں', 'ایک', 'لڑکا', 'ہوں,', 'میں', 'ایک', 'بوٹ', 'ہوں']\n",
      "['सह', 'अहं', 'अयम्', 'बालकः,', 'हम', 'छी', 'एक', 'लड़का।,', 'हम', 'छी', 'एक', 'लड़का।']\n"
     ]
    }
   ],
   "source": [
    "print(llmchain_chat.run({'text':'I am a boy','input_language':'english','output_language':'hindi,italian'}))\n",
    "print(llmchain_chat.run({'text':'I am a boy','input_language':'english','output_language':'French,German'}))\n",
    "print(llmchain_chat.run({'text':'I am a boy','input_language':'english','output_language':'urdu'}))\n",
    "print(llmchain_chat.run({'text':'I am a boy','input_language':'english','output_language':'Sanskrit,bhojpuri'}))"
   ]
  },
  {
   "cell_type": "code",
   "execution_count": null,
   "metadata": {},
   "outputs": [],
   "source": []
  }
 ],
 "metadata": {
  "kernelspec": {
   "display_name": "LLM_env",
   "language": "python",
   "name": "python3"
  },
  "language_info": {
   "codemirror_mode": {
    "name": "ipython",
    "version": 3
   },
   "file_extension": ".py",
   "mimetype": "text/x-python",
   "name": "python",
   "nbconvert_exporter": "python",
   "pygments_lexer": "ipython3",
   "version": "3.11.5"
  },
  "orig_nbformat": 4
 },
 "nbformat": 4,
 "nbformat_minor": 2
}
